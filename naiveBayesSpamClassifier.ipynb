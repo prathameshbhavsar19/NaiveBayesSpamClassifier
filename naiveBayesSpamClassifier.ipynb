{
 "cells": [
  {
   "cell_type": "code",
   "execution_count": 0,
   "metadata": {
    "application/vnd.databricks.v1+cell": {
     "cellMetadata": {
      "byteLimit": 2048000,
      "rowLimit": 10000
     },
     "inputWidgets": {},
     "nuid": "a644d2e2-c362-40c0-a554-dd2354fc6e84",
     "showTitle": false,
     "tableResultSettingsMap": {},
     "title": ""
    }
   },
   "outputs": [],
   "source": [
    "from pyspark import SparkContext\n",
    "from pyspark.sql import SparkSession\n",
    "import csv\n",
    "from io import StringIO\n",
    "import re\n",
    "from math import log"
   ]
  },
  {
   "cell_type": "code",
   "execution_count": 0,
   "metadata": {
    "application/vnd.databricks.v1+cell": {
     "cellMetadata": {
      "byteLimit": 2048000,
      "rowLimit": 10000
     },
     "inputWidgets": {},
     "nuid": "bdfa6a22-9c6e-488c-ba87-51005d79f6c1",
     "showTitle": false,
     "tableResultSettingsMap": {},
     "title": ""
    }
   },
   "outputs": [],
   "source": [
    "spark = SparkSession.builder.appName(\"NaiveBayesSMS\").getOrCreate()"
   ]
  },
  {
   "cell_type": "code",
   "execution_count": 0,
   "metadata": {
    "application/vnd.databricks.v1+cell": {
     "cellMetadata": {
      "byteLimit": 2048000,
      "rowLimit": 10000
     },
     "inputWidgets": {},
     "nuid": "a5ce7e29-d7b7-410a-acda-03e97ebcaeb6",
     "showTitle": false,
     "tableResultSettingsMap": {},
     "title": ""
    }
   },
   "outputs": [],
   "source": [
    "df = spark.read.csv(\"dbfs:/FileStore/SpamMsgData.csv\", inferSchema=True, header=False)\n",
    "df = df.withColumnRenamed(\"_c0\", \"label\").withColumnRenamed(\"_c1\", \"message\")"
   ]
  },
  {
   "cell_type": "code",
   "execution_count": 0,
   "metadata": {
    "application/vnd.databricks.v1+cell": {
     "cellMetadata": {
      "byteLimit": 2048000,
      "rowLimit": 10000
     },
     "inputWidgets": {},
     "nuid": "6094e50d-3fd7-450b-b4c2-b3d03c77dc38",
     "showTitle": false,
     "tableResultSettingsMap": {},
     "title": ""
    }
   },
   "outputs": [],
   "source": [
    "def preprocess_row(row):\n",
    "    label = row['label'].strip()\n",
    "    message = row['message']\n",
    "    text = message.strip() if message else ''\n",
    "    tokens = re.findall(r'\\b\\w+\\b', text.lower())\n",
    "    return (label, tokens)"
   ]
  },
  {
   "cell_type": "code",
   "execution_count": 0,
   "metadata": {
    "application/vnd.databricks.v1+cell": {
     "cellMetadata": {
      "byteLimit": 2048000,
      "rowLimit": 10000
     },
     "inputWidgets": {},
     "nuid": "d735f071-8225-4714-9fa4-5648a16d84d9",
     "showTitle": false,
     "tableResultSettingsMap": {},
     "title": ""
    }
   },
   "outputs": [],
   "source": [
    "cleaned_data = df.rdd.map(preprocess_row).filter(lambda x: x[0] in ['ham', 'spam'] and len(x[1]) > 0)"
   ]
  },
  {
   "cell_type": "code",
   "execution_count": 0,
   "metadata": {
    "application/vnd.databricks.v1+cell": {
     "cellMetadata": {
      "byteLimit": 2048000,
      "rowLimit": 10000
     },
     "inputWidgets": {},
     "nuid": "fc3f6453-efcc-4f9a-873b-48cd6f451004",
     "showTitle": false,
     "tableResultSettingsMap": {},
     "title": ""
    }
   },
   "outputs": [],
   "source": [
    "train_data, test_data = cleaned_data.randomSplit([0.8, 0.2], seed=42)"
   ]
  },
  {
   "cell_type": "code",
   "execution_count": 0,
   "metadata": {
    "application/vnd.databricks.v1+cell": {
     "cellMetadata": {
      "byteLimit": 2048000,
      "rowLimit": 10000
     },
     "inputWidgets": {},
     "nuid": "e2e2bbf6-437a-4324-b94f-edce6fa14fb3",
     "showTitle": false,
     "tableResultSettingsMap": {},
     "title": ""
    }
   },
   "outputs": [],
   "source": [
    "doc_counts = train_data.map(lambda x: (x[0], 1)).reduceByKey(lambda a, b: a + b)\n",
    "total_docs = train_data.count()\n",
    "priors = doc_counts.mapValues(lambda count: log(count / total_docs)).collectAsMap()\n",
    "raw_priors = doc_counts.collectAsMap()"
   ]
  },
  {
   "cell_type": "code",
   "execution_count": 0,
   "metadata": {
    "application/vnd.databricks.v1+cell": {
     "cellMetadata": {
      "byteLimit": 2048000,
      "rowLimit": 10000
     },
     "inputWidgets": {},
     "nuid": "f2cad118-ff19-4929-93ad-c2ba7d343a26",
     "showTitle": false,
     "tableResultSettingsMap": {},
     "title": ""
    }
   },
   "outputs": [],
   "source": [
    "word_counts = train_data.flatMap(lambda x: [((x[0], word), 1) for word in x[1]]) \\\n",
    "                        .reduceByKey(lambda a, b: a + b)"
   ]
  },
  {
   "cell_type": "code",
   "execution_count": 0,
   "metadata": {
    "application/vnd.databricks.v1+cell": {
     "cellMetadata": {
      "byteLimit": 2048000,
      "rowLimit": 10000
     },
     "inputWidgets": {},
     "nuid": "0a235a37-544a-47d0-bf34-e147ce9e40d7",
     "showTitle": false,
     "tableResultSettingsMap": {},
     "title": ""
    }
   },
   "outputs": [],
   "source": [
    "total_words = word_counts.map(lambda x: (x[0][0], x[1])) \\\n",
    "                         .reduceByKey(lambda a, b: a + b) \\\n",
    "                         .collectAsMap()"
   ]
  },
  {
   "cell_type": "code",
   "execution_count": 0,
   "metadata": {
    "application/vnd.databricks.v1+cell": {
     "cellMetadata": {
      "byteLimit": 2048000,
      "rowLimit": 10000
     },
     "inputWidgets": {},
     "nuid": "ff388d11-d784-4bf7-a91d-8de1820f902e",
     "showTitle": false,
     "tableResultSettingsMap": {},
     "title": ""
    }
   },
   "outputs": [],
   "source": [
    "vocab = word_counts.map(lambda x: x[0][1]).distinct().collect()\n",
    "vocab_size = len(vocab)"
   ]
  },
  {
   "cell_type": "code",
   "execution_count": 0,
   "metadata": {
    "application/vnd.databricks.v1+cell": {
     "cellMetadata": {
      "byteLimit": 2048000,
      "rowLimit": 10000
     },
     "inputWidgets": {},
     "nuid": "3c5ffeae-54aa-4bcb-ab3b-b1c71a26d48d",
     "showTitle": false,
     "tableResultSettingsMap": {},
     "title": ""
    }
   },
   "outputs": [],
   "source": [
    "word_probs = word_counts.map(lambda x: (\n",
    "    x[0],  # (label, word)\n",
    "    log((x[1] + 1) / (total_words[x[0][0]] + vocab_size))\n",
    ")).collectAsMap()"
   ]
  },
  {
   "cell_type": "code",
   "execution_count": 0,
   "metadata": {
    "application/vnd.databricks.v1+cell": {
     "cellMetadata": {
      "byteLimit": 2048000,
      "rowLimit": 10000
     },
     "inputWidgets": {},
     "nuid": "8a9491f8-6f68-44e1-8ba4-8d088d94fa48",
     "showTitle": false,
     "tableResultSettingsMap": {},
     "title": ""
    }
   },
   "outputs": [],
   "source": [
    "def predict(tokens):\n",
    "    label_scores = {}\n",
    "    for label in priors:\n",
    "        score = priors[label]\n",
    "        for word in tokens:\n",
    "            score += word_probs.get((label, word), log(1 / (total_words[label] + vocab_size)))\n",
    "        label_scores[label] = score\n",
    "    return max(label_scores.items(), key=lambda x: x[1])[0]"
   ]
  },
  {
   "cell_type": "code",
   "execution_count": 0,
   "metadata": {
    "application/vnd.databricks.v1+cell": {
     "cellMetadata": {
      "byteLimit": 2048000,
      "rowLimit": 10000
     },
     "inputWidgets": {},
     "nuid": "a3129334-cde6-481f-b17c-bc76e5d89763",
     "showTitle": false,
     "tableResultSettingsMap": {},
     "title": ""
    }
   },
   "outputs": [],
   "source": [
    "predictions = test_data.map(lambda x: (x[0], predict(x[1])))\n",
    "correct_predictions = predictions.filter(lambda x: x[0] == x[1]).count()\n",
    "total_predictions = predictions.count()\n",
    "accuracy = correct_predictions / total_predictions\n"
   ]
  },
  {
   "cell_type": "code",
   "execution_count": 0,
   "metadata": {
    "application/vnd.databricks.v1+cell": {
     "cellMetadata": {
      "byteLimit": 2048000,
      "rowLimit": 10000
     },
     "inputWidgets": {},
     "nuid": "0369db2d-52b5-4666-b102-192cdf099f8c",
     "showTitle": false,
     "tableResultSettingsMap": {},
     "title": ""
    }
   },
   "outputs": [
    {
     "output_type": "stream",
     "name": "stdout",
     "output_type": "stream",
     "text": [
      "Naive Bayes Classifier Results Summary\n=========================================\nTotal Test Samples        : 1085\nCorrect Predictions       : 1068\nAccuracy                  : 0.9843\n-----------------------------------------\nClass Prior Probabilities (log scale):\nP(ham) = -0.1465  (Count: 3874)\nP(spam) = -1.9934  (Count: 611)\n"
     ]
    }
   ],
   "source": [
    "print(\"Naive Bayes Classifier Results Summary\")\n",
    "print(\"=========================================\")\n",
    "print(f\"Total Test Samples        : {total_predictions}\")\n",
    "print(f\"Correct Predictions       : {correct_predictions}\")\n",
    "print(f\"Accuracy                  : {accuracy:.4f}\")\n",
    "print(\"-----------------------------------------\")\n",
    "print(\"Class Prior Probabilities (log scale):\")\n",
    "for label in raw_priors:\n",
    "    log_prior = priors[label]\n",
    "    count = raw_priors[label]\n",
    "    print(f\"P({label}) = {log_prior:.4f}  (Count: {count})\")"
   ]
  }
 ],
 "metadata": {
  "application/vnd.databricks.v1+notebook": {
   "computePreferences": null,
   "dashboards": [],
   "environmentMetadata": {
    "base_environment": "",
    "environment_version": "1"
   },
   "inputWidgetPreferences": null,
   "language": "python",
   "notebookMetadata": {
    "pythonIndentUnit": 4
   },
   "notebookName": "Assignment2_Problem2",
   "widgets": {}
  }
 },
 "nbformat": 4,
 "nbformat_minor": 0
}